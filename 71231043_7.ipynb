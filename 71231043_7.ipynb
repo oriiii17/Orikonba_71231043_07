{
 "cells": [
  {
   "cell_type": "code",
   "execution_count": 1,
   "id": "b964f47d-84cf-4318-aa08-45812f11ff57",
   "metadata": {},
   "outputs": [
    {
     "name": "stdout",
     "output_type": "stream",
     "text": [
      "The next color is red\n",
      "The next color is green\n",
      "The next color is blue\n",
      "The next color is yellow\n",
      "The next color is pink\n"
     ]
    }
   ],
   "source": [
    "colors = [\"red\", \"green\", \"blue\", \"yellow\", \"pink\"]\n",
    "\n",
    "while colors:\n",
    "    print(f\"The next color is {colors.pop(0)}\")"
   ]
  },
  {
   "cell_type": "code",
   "execution_count": 2,
   "id": "d34ed9d1-1325-4b2e-bf4e-85bbb8634961",
   "metadata": {},
   "outputs": [
    {
     "name": "stdin",
     "output_type": "stream",
     "text": [
      "Masukkan kalimat:  SKEDE\n"
     ]
    },
    {
     "name": "stdout",
     "output_type": "stream",
     "text": [
      "Jumlah huruf hidup dalam kata 'SKEDE': 2\n"
     ]
    }
   ],
   "source": [
    "kalimat = input(\"Masukkan kalimat: \")\n",
    "kata_kalimat = kalimat.split()\n",
    "\n",
    "for kata in kata_kalimat:\n",
    "    huruf_hidup = \"aiueoAIUEO\"\n",
    "    jumlah_hidup = 0\n",
    "    for huruf in kata:\n",
    "        if huruf in huruf_hidup:\n",
    "            jumlah_hidup += 1\n",
    "    print(f\"Jumlah huruf hidup dalam kata '{kata}': {jumlah_hidup}\")"
   ]
  },
  {
   "cell_type": "code",
   "execution_count": 3,
   "id": "0c01c887-13c1-4d67-b7f7-e6c4d8a54279",
   "metadata": {},
   "outputs": [
    {
     "name": "stdout",
     "output_type": "stream",
     "text": [
      "Jika kamu tidak sanggup menahan lelahnya belajar, maka kamu harus sanggup menahan perihnya kebodohan\n",
      "Jika kamu tidak sanggup menahan lelahnya belajar\n",
      "maka kamu harus sanggup menahan perihnya kebodohan\n",
      "kamu\n",
      "tidak\n",
      "km ia\n",
      "kebodohan\n",
      "nahodobek\n"
     ]
    }
   ],
   "source": [
    "quote = 'Jika kamu tidak sanggup menahan lelahnya belajar, maka kamu harus sanggup menahan perihnya kebodohan'\n",
    "\n",
    "bag_awal = quote[:48]\n",
    "bag_akhir = quote[50:]\n",
    "cth_tengah1 =  quote[5:9]\n",
    "cth_tengah2 =  quote[10:15]\n",
    "cth_lompat_karakter = quote[5:15:2]\n",
    "cth_dari_belakang = quote[-9:]\n",
    "cth_dari_belakang2 = quote[-1:-10:-1]\n",
    "\n",
    "print(quote)\n",
    "print(bag_awal)\n",
    "print(bag_akhir)\n",
    "print(cth_tengah1)\n",
    "print(cth_tengah2)\n",
    "print(cth_lompat_karakter)\n",
    "print(cth_dari_belakang)\n",
    "print(cth_dari_belakang2)"
   ]
  },
  {
   "cell_type": "code",
   "execution_count": 4,
   "id": "991eb1a4-7235-43c9-a32a-4649e2e114e7",
   "metadata": {},
   "outputs": [
    {
     "name": "stdout",
     "output_type": "stream",
     "text": [
      "['apple', 'banana', 'orange', 'grape']\n"
     ]
    }
   ],
   "source": [
    "string = \"apple,banana,orange,grape\"\n",
    "fruits = string.split(\",\") \n",
    "print(fruits) "
   ]
  },
  {
   "cell_type": "code",
   "execution_count": 19,
   "id": "ae24ba63-999f-4198-9351-f59f28c2e825",
   "metadata": {},
   "outputs": [
    {
     "name": "stdout",
     "output_type": "stream",
     "text": [
      "makan ada 3 buah\n"
     ]
    }
   ],
   "source": [
    "#Latihan 7.2\n",
    "def hitung_frekuensi_kemunculan(kalimat, kata):\n",
    "    tanda_baca = '.,!?'\n",
    "    kalimat_bersih = \"\".join(char for char in kalimat if char not in tanda_baca)\n",
    "    \n",
    "    kata_dalam_kalimat = kalimat_bersih.lower().split()\n",
    "    \n",
    "    kemunculan = 0\n",
    "    for k in kata_dalam_kalimat:\n",
    "        if k == kata.lower():\n",
    "            kemunculan += 1\n",
    "    return kemunculan\n",
    "\n",
    "kalimat = \"Saya mau makan. Makan itu wajib. Mau siang atau malam saya wajib makan\"\n",
    "\n",
    "kata_yang_dicari = \"makan\"\n",
    "\n",
    "frekuensi = hitung_frekuensi_kemunculan(kalimat, kata_yang_dicari)\n",
    "\n",
    "print(f\"{kata_yang_dicari} ada {frekuensi} buah\")"
   ]
  },
  {
   "cell_type": "code",
   "execution_count": 20,
   "id": "883ee16d-a627-4bfc-b9fe-e9a75901fe84",
   "metadata": {},
   "outputs": [
    {
     "name": "stdout",
     "output_type": "stream",
     "text": [
      "saya tidak suka memancing ikan\n"
     ]
    }
   ],
   "source": [
    "#Latihan 7.3\n",
    "def hapus_spasi_berlebih(kalimat):\n",
    "    kata_kata = kalimat.split()\n",
    "    \n",
    "    kalimat_bersih = ' '.join(kata_kata)\n",
    "    \n",
    "    return kalimat_bersih\n",
    "\n",
    "kalimat = \"saya tidak suka memancing ikan \"\n",
    "\n",
    "hasil = hapus_spasi_berlebih(kalimat)\n",
    "\n",
    "print(hasil)"
   ]
  },
  {
   "cell_type": "code",
   "execution_count": 21,
   "id": "b0dcd0dc-6143-40e6-b63b-ea6da70461f0",
   "metadata": {},
   "outputs": [
    {
     "name": "stdin",
     "output_type": "stream",
     "text": [
      "Masukkan sebuah kalimat:  Narito pukul ronny sampai darah\n"
     ]
    },
    {
     "name": "stdout",
     "output_type": "stream",
     "text": [
      "terpendek: pukul, terpanjang: Narito\n"
     ]
    }
   ],
   "source": [
    "#Latihan 7.4\n",
    "def temukan_kata_terpendek_terpanjang(kalimat):\n",
    "    kata_kata = kalimat.split()\n",
    "    \n",
    "    terpendek = terpanjang = kata_kata[0]\n",
    "    \n",
    "    for kata in kata_kata:\n",
    "        if len(kata) < len(terpendek):\n",
    "            terpendek = kata\n",
    "        if len(kata) > len(terpanjang):\n",
    "            terpanjang = kata\n",
    "    \n",
    "    return terpendek, terpanjang\n",
    "\n",
    "kalimat = input(\"Masukkan sebuah kalimat: \")\n",
    "\n",
    "terpendek, terpanjang = temukan_kata_terpendek_terpanjang(kalimat)\n",
    "\n",
    "print(f\"terpendek: {terpendek}, terpanjang: {terpanjang}\")"
   ]
  },
  {
   "cell_type": "code",
   "execution_count": null,
   "id": "ec9071bd-afbe-427c-a81a-2b518318e49a",
   "metadata": {},
   "outputs": [],
   "source": []
  }
 ],
 "metadata": {
  "kernelspec": {
   "display_name": "Python 3 (ipykernel)",
   "language": "python",
   "name": "python3"
  },
  "language_info": {
   "codemirror_mode": {
    "name": "ipython",
    "version": 3
   },
   "file_extension": ".py",
   "mimetype": "text/x-python",
   "name": "python",
   "nbconvert_exporter": "python",
   "pygments_lexer": "ipython3",
   "version": "3.11.7"
  }
 },
 "nbformat": 4,
 "nbformat_minor": 5
}
